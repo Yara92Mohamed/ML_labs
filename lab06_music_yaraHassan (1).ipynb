{
  "cells": [
    {
      "cell_type": "markdown",
      "source": [
        "# Lab 6:  Neural Networks for Music Classification\n",
        "\n",
        "In addition to the concepts in the [MNIST neural network demo](./mnist_neural.ipynb), in this lab, you will learn to:\n",
        "* Load a file from a URL\n",
        "* Extract simple features from audio samples for machine learning tasks such as speech recognition and classification\n",
        "* Build a simple neural network for music classification using these features\n",
        "* Use a callback to store the loss and accuracy history in the training process\n",
        "* Optimize the learning rate of the neural network\n",
        "\n",
        "To illustrate the basic concepts, we will look at a relatively simple music classification problem.  Given a sample of music, we want to determine which instrument (e.g. trumpet, violin, piano) is playing.  This dataset was generously supplied by [Prof. Juan Bello](http://steinhardt.nyu.edu/faculty/Juan_Pablo_Bello) at NYU Stenihardt  and his former PhD student Eric Humphrey (now at Spotify).  They have a complete website dedicated to deep learning methods in music informatics:\n",
        "\n",
        "http://marl.smusic.nyu.edu/wordpress/projects/feature-learning-deep-architectures/deep-learning-python-tutorial/\n",
        "\n",
        "You can also check out Juan's <a href=\"http://www.nyu.edu/classes/bello/ACA.html\">course</a>.\n",
        "\n"
      ],
      "metadata": {
        "id": "ASQV4VOWO3Hu"
      }
    },
    {
      "cell_type": "markdown",
      "source": [
        "## Loading the Keras package\n",
        "We begin by loading keras and the other packages"
      ],
      "metadata": {
        "id": "VXj0ZdPtO3Hv"
      }
    },
    {
      "cell_type": "code",
      "source": [
        "import keras"
      ],
      "outputs": [],
      "execution_count": 7,
      "metadata": {
        "id": "qyppZRcWO3Hv"
      }
    },
    {
      "cell_type": "code",
      "source": [
        "import numpy as np\n",
        "import matplotlib\n",
        "import matplotlib.pyplot as plt\n",
        "%matplotlib inline"
      ],
      "outputs": [],
      "execution_count": 8,
      "metadata": {
        "collapsed": true,
        "id": "Pp7qDhPtO3Hw"
      }
    },
    {
      "cell_type": "markdown",
      "source": [
        "## Audio Feature Extraction with Librosa\n",
        "\n",
        "The key to audio classification is to extract the correct features. In addition to `keras`, we will need the `librosa` package.  The `librosa` package in python has a rich set of methods extracting the features of audio samples commonly used in machine learning tasks such as speech recognition and sound classification. \n",
        "\n",
        "Installation instructions and complete documentation for the package are given on the [librosa main page](https://librosa.github.io/librosa/).  On most systems, you should be able to simply use:\n",
        "\n",
        "    pip install -u librosa\n",
        "    \n",
        "For Unix, you may need to load some additional packages:\n",
        "\n",
        "    sudo apt-get install build-essential\n",
        "    sudo apt-get install libxext-dev python-qt4 qt4-dev-tools\n",
        "    pip install librosa\n",
        "    \n",
        "After you have installed the package, try to import it."
      ],
      "metadata": {
        "id": "ZT9Zm5IDO3Hx"
      }
    },
    {
      "cell_type": "code",
      "source": [
        "import librosa\n",
        "import librosa.display\n",
        "import librosa.feature"
      ],
      "outputs": [],
      "execution_count": 9,
      "metadata": {
        "collapsed": true,
        "id": "uRfax6vTO3Hx"
      }
    },
    {
      "cell_type": "markdown",
      "source": [
        "In this lab, we will use a set of music samples from the website:\n",
        "\n",
        "http://theremin.music.uiowa.edu\n",
        "\n",
        "This website has a great set of samples for audio processing.  Look on the web for how to use the `requests.get` and `file.write` commands to load the file at the URL provided into your working directory.\n",
        "\n",
        "You can play the audio sample by copying the file to your local machine and playing it on any media player.  If you listen to it you will hear a soprano saxaphone (with vibrato) playing four notes (C, C#, D, Eb)."
      ],
      "metadata": {
        "id": "hutcj08TO3Hx"
      }
    },
    {
      "cell_type": "code",
      "source": [
        "import requests\n",
        "fn = \"SopSax.Vib.pp.C6Eb6.aiff\"\n",
        "url = \"http://theremin.music.uiowa.edu/sound files/MIS/Woodwinds/sopranosaxophone/\"+fn\n",
        "\n",
        "# TODO:  Load the file from url and save it in a file under the name fn"
      ],
      "outputs": [],
      "execution_count": 10,
      "metadata": {
        "collapsed": true,
        "id": "S8dB4dzeO3Hx"
      }
    },
    {
      "cell_type": "code",
      "source": [
        "request= requests.get(url)\n",
        "open(fn,'wb').write(request.content)"
      ],
      "metadata": {
        "colab": {
          "base_uri": "https://localhost:8080/"
        },
        "id": "SijdqCbzTb-b",
        "outputId": "f7ca2565-d892-4b3a-8a94-0a3b7838a017"
      },
      "execution_count": 11,
      "outputs": [
        {
          "output_type": "execute_result",
          "data": {
            "text/plain": [
              "1418242"
            ]
          },
          "metadata": {},
          "execution_count": 11
        }
      ]
    },
    {
      "cell_type": "markdown",
      "source": [
        "Next, use `librosa` command `librosa.load` to read the audio file with filename `fn` and get the samples `y` and sample rate `sr`."
      ],
      "metadata": {
        "id": "6GEZ7RdrO3Hy"
      }
    },
    {
      "cell_type": "code",
      "source": [
        "# TODO\n",
        "# y, sr = ...\n",
        "y, sr = librosa.load(fn)"
      ],
      "outputs": [],
      "execution_count": 12,
      "metadata": {
        "collapsed": true,
        "id": "NI9oFSi-O3Hy"
      }
    },
    {
      "cell_type": "markdown",
      "source": [
        "Extracting features from audio files is an entire subject on its own right.  A commonly used set of features are called the Mel Frequency Cepstral Coefficients (MFCCs).  These are derived from the so-called mel spectrogram which is something like a regular spectrogram, but the power and frequency are represented in log scale, which more naturally aligns with human perceptual processing.  You can run the code below to display the mel spectrogram from the audio sample.\n",
        "\n",
        "You can easily see the four notes played in the audio track.  You also see the 'harmonics' of each notes, which are other tones at integer multiples of the fundamental frequency of each note."
      ],
      "metadata": {
        "id": "N44sRRQOO3Hy"
      }
    },
    {
      "cell_type": "code",
      "source": [
        "import numpy as np\n",
        "S = librosa.feature.melspectrogram(y=y, sr=sr, n_mels=128, fmax=8000)\n",
        "librosa.display.specshow(librosa.amplitude_to_db(S,ref=np.max),\n",
        "                         y_axis='mel', fmax=8000, x_axis='time')\n",
        "plt.colorbar(format='%+2.0f dB')\n",
        "plt.title('Mel spectrogram')\n",
        "plt.tight_layout()"
      ],
      "outputs": [
        {
          "output_type": "display_data",
          "data": {
            "text/plain": [
              "<Figure size 432x288 with 2 Axes>"
            ],
            "image/png": "[encoded data removed]"
          },
          "metadata": {
            "needs_background": "light"
          }
        }
      ],
      "execution_count": 15,
      "metadata": {
        "collapsed": true,
        "colab": {
          "base_uri": "https://localhost:8080/",
          "height": 297
        },
        "id": "tBSN2fvOO3Hy",
        "outputId": "5f40b175-5524-4539-c971-564786ccef76"
      }
    },
    {
      "cell_type": "markdown",
      "source": [
        "## Downloading the Data\n",
        "\n",
        "Using the MFCC features described above, Eric Humphrey and Juan Bellow have created a complete data set that can used for instrument classification.  Essentially, they collected a number of data files from the website above.  For each audio file, the segmented the track into notes and then extracted 120 MFCCs for each note.  The goal is to recognize the instrument from the 120 MFCCs.  The process of feature extraction is quite involved.  So, we will just use their processed data provided at:\n",
        "\n",
        "https://github.com/marl/dl4mir-tutorial/blob/master/README.md\n",
        "\n",
        "Note the password.  Load the four files into some directory, say  `instrument_dataset`.  Then, load them with the commands."
      ],
      "metadata": {
        "id": "CGPim8C2O3Hz"
      }
    },
    {
      "cell_type": "code",
      "source": [
        "data_dir = 'instrument_dataset/'\n",
        "Xtr = np.load(data_dir+'uiowa_train_data.npy')\n",
        "ytr = np.load(data_dir+'uiowa_train_labels.npy')\n",
        "Xts = np.load(data_dir+'uiowa_test_data.npy')\n",
        "yts = np.load(data_dir+'uiowa_test_labels.npy')"
      ],
      "outputs": [],
      "execution_count": 20,
      "metadata": {
        "collapsed": true,
        "id": "czanbZ3-O3Hz"
      }
    },
    {
      "cell_type": "markdown",
      "source": [
        "Looking at the data files:\n",
        "* What are the number of training and test samples?\n",
        "* What is the number of features for each sample?\n",
        "* How many classes (i.e. instruments) are there per class.\n"
      ],
      "metadata": {
        "id": "75RKOB5VO3Hz"
      }
    },
    {
      "cell_type": "code",
      "source": [
        "# TODO\n",
        "Xtr.shape"
      ],
      "outputs": [
        {
          "output_type": "execute_result",
          "data": {
            "text/plain": [
              "(66247, 120)"
            ]
          },
          "metadata": {},
          "execution_count": 21
        }
      ],
      "execution_count": 21,
      "metadata": {
        "collapsed": true,
        "colab": {
          "base_uri": "https://localhost:8080/"
        },
        "id": "Hq6hwL3NO3Hz",
        "outputId": "07923f4e-1c5d-4e8e-9e03-61a5f837f39a"
      }
    },
    {
      "cell_type": "code",
      "source": [
        "ytr.shape"
      ],
      "metadata": {
        "colab": {
          "base_uri": "https://localhost:8080/"
        },
        "id": "soBKkteJbt3X",
        "outputId": "24ff255c-8d69-4bd8-d22b-d372e2082933"
      },
      "execution_count": 22,
      "outputs": [
        {
          "output_type": "execute_result",
          "data": {
            "text/plain": [
              "(66247,)"
            ]
          },
          "metadata": {},
          "execution_count": 22
        }
      ]
    },
    {
      "cell_type": "code",
      "source": [
        "Xts.shape"
      ],
      "metadata": {
        "colab": {
          "base_uri": "https://localhost:8080/"
        },
        "id": "AdDMd0uhbt72",
        "outputId": "08526081-5d90-4334-d554-bd65340e8c1c"
      },
      "execution_count": 23,
      "outputs": [
        {
          "output_type": "execute_result",
          "data": {
            "text/plain": [
              "(14904, 120)"
            ]
          },
          "metadata": {},
          "execution_count": 23
        }
      ]
    },
    {
      "cell_type": "code",
      "source": [
        "yts.shape"
      ],
      "metadata": {
        "colab": {
          "base_uri": "https://localhost:8080/"
        },
        "id": "MM5nYXYVbt_H",
        "outputId": "2f72561a-578e-4651-89cd-2bce2538c51e"
      },
      "execution_count": 24,
      "outputs": [
        {
          "output_type": "execute_result",
          "data": {
            "text/plain": [
              "(14904,)"
            ]
          },
          "metadata": {},
          "execution_count": 24
        }
      ]
    },
    {
      "cell_type": "code",
      "source": [
        "print('Number of training samples:',Xtr.shape[0])\n",
        "print('Number of test samples:',Xts.shape[0])\n",
        "print('Number of Features for each sample:',Xtr.shape[1])\n",
        "print('Number of classes per class:',np.unique(ytr).size)"
      ],
      "metadata": {
        "colab": {
          "base_uri": "https://localhost:8080/"
        },
        "id": "tjBZ-Mq3chR2",
        "outputId": "ab8a1de1-813c-4e28-a716-49be05e882ff"
      },
      "execution_count": 25,
      "outputs": [
        {
          "output_type": "stream",
          "name": "stdout",
          "text": [
            "Number of training samples: 66247\n",
            "Number of test samples: 14904\n",
            "Number of Features for each sample: 120\n",
            "Number of classes per class: 10\n"
          ]
        }
      ]
    },
    {
      "cell_type": "markdown",
      "source": [
        "Before continuing, you must scale the training and test data, `Xtr` and `Xts`.  Compute the mean and std deviation of each feature in `Xtr` and create a new training data set, `Xtr_scale`, by subtracting the mean and dividing by the std deviation.  Also compute a scaled test data set, `Xts_scale` using the mean and std deviation learned from the training data set."
      ],
      "metadata": {
        "id": "bNmqmc9uO3Hz"
      }
    },
    {
      "cell_type": "code",
      "source": [
        "# TODO Scale the training and test matrices\n",
        "# Xtr_scale = ...\n",
        "# Xts_scale = ...\n",
        "from sklearn import preprocessing\n",
        "Xtr_mean = np.mean(Xtr, axis = 0)\n",
        "Xtr_std = np.std(Xtr, axis = 0)\n",
        "\n",
        "Xtr_scale = (Xtr - Xtr_mean)/Xtr_std\n",
        "print(Xtr_scale)\n",
        "\n",
        "Xts_scale= (Xts - Xtr_mean)/Xtr_std\n",
        "print(Xts_scale)"
      ],
      "outputs": [
        {
          "output_type": "stream",
          "name": "stdout",
          "text": [
            "[[-0.31827517 -0.32885595 -0.29351324 ... -0.36022673 -0.25311227\n",
            "  -0.41772567]\n",
            " [-0.31018965 -0.2727317  -0.2771818  ... -0.17807889  0.22098027\n",
            "  -0.04118938]\n",
            " [-0.27996699 -0.30067912 -0.26579675 ... -0.22750957  0.43279931\n",
            "  -0.00953712]\n",
            " ...\n",
            " [-0.70541453 -0.70723946 -0.70942862 ...  3.33693492  4.20324336\n",
            "   3.70233809]\n",
            " [-0.71897237 -0.71054126 -0.71014551 ...  3.61543866  6.39878693\n",
            "   3.31839917]\n",
            " [-0.72390302 -0.7118741  -0.70965863 ...  1.07922697  1.84041084\n",
            "   1.42883157]]\n",
            "[[-0.21750643 -0.21681385 -0.22310685 ... -0.68837059 -0.80603516\n",
            "  -0.72767992]\n",
            " [-0.23309243 -0.23444571 -0.23947694 ... -0.73434555 -0.71418557\n",
            "  -0.791695  ]\n",
            " [-0.16197075 -0.20414146 -0.22111234 ... -0.66818614 -0.80244538\n",
            "  -0.68702929]\n",
            " ...\n",
            " [-0.66945232 -0.66272087 -0.66150228 ... -0.74286231 -0.74274835\n",
            "  -0.81456784]\n",
            " [-0.66689074 -0.66199011 -0.66236822 ... -0.59806106 -0.64959124\n",
            "  -0.54035891]\n",
            " [-0.66550011 -0.66405765 -0.66227782 ... -0.55623913 -0.55268092\n",
            "  -0.63606318]]\n"
          ]
        }
      ],
      "execution_count": 26,
      "metadata": {
        "collapsed": true,
        "colab": {
          "base_uri": "https://localhost:8080/"
        },
        "id": "z6j_XSHjO3Hz",
        "outputId": "b3c924c2-180f-47d4-8701-c0fc860132a9"
      }
    },
    {
      "cell_type": "markdown",
      "source": [
        "## Building a Neural Network Classifier\n",
        "\n",
        "Following the example in [MNIST neural network demo](./mnist_neural.ipynb), clear the keras session.  Then, create a neural network `model` with:\n",
        "* `nh=256` hidden units\n",
        "* `sigmoid` activation\n",
        "* select the input and output shapes correctly\n",
        "* print the model summary"
      ],
      "metadata": {
        "collapsed": true,
        "id": "HjB_-GmWO3H0"
      }
    },
    {
      "cell_type": "code",
      "source": [
        "from keras.models import Model, Sequential\n",
        "from keras.layers import Dense, Activation"
      ],
      "outputs": [],
      "execution_count": 27,
      "metadata": {
        "collapsed": true,
        "id": "owtiSpnUO3H0"
      }
    },
    {
      "cell_type": "code",
      "source": [
        "from tensorflow.keras.models import Model, Sequential\n",
        "from tensorflow.keras.layers import Dense, Activation\n",
        "import tensorflow.keras.backend as Kt"
      ],
      "metadata": {
        "id": "RYYMtqBHf9Du"
      },
      "execution_count": 30,
      "outputs": []
    },
    {
      "cell_type": "code",
      "source": [
        "# TODO clear session\n",
        "Kt.clear_session()"
      ],
      "outputs": [],
      "execution_count": 31,
      "metadata": {
        "collapsed": true,
        "id": "ytfgH1RbO3H1"
      }
    },
    {
      "cell_type": "code",
      "source": [
        "\n",
        "\n",
        "input_layer = Xtr_scale.shape[1]  # dimension of input data\n",
        "hidden_layer = 256     # number of hidden units\n",
        "output_layer = int(np.max(ytr)+1)\n",
        "print(output_layer)\n",
        "\n"
      ],
      "outputs": [
        {
          "output_type": "stream",
          "name": "stdout",
          "text": [
            "10\n"
          ]
        }
      ],
      "execution_count": 33,
      "metadata": {
        "collapsed": true,
        "colab": {
          "base_uri": "https://localhost:8080/"
        },
        "id": "jakzqfugO3H1",
        "outputId": "be921cd1-f05f-4cbe-fae9-e1cb39dd512a"
      }
    },
    {
      "cell_type": "code",
      "source": [
        "# TODO: construct the model\n",
        "model = Sequential()\n",
        "model.add(Dense(units=hidden_layer, input_shape=(input_layer,), activation='sigmoid', name='hidden'))\n",
        "model.add(Dense(units=output_layer, activation='softmax', name='output'))"
      ],
      "metadata": {
        "id": "lKyV371-hJRk"
      },
      "execution_count": 34,
      "outputs": []
    },
    {
      "cell_type": "code",
      "source": [
        "# TODO:  Print the model summary\n",
        "model.summary()"
      ],
      "outputs": [
        {
          "output_type": "stream",
          "name": "stdout",
          "text": [
            "Model: \"sequential_1\"\n",
            "_________________________________________________________________\n",
            " Layer (type)                Output Shape              Param #   \n",
            "=================================================================\n",
            " hidden (Dense)              (None, 256)               30976     \n",
            "                                                                 \n",
            " output (Dense)              (None, 10)                2570      \n",
            "                                                                 \n",
            "=================================================================\n",
            "Total params: 33,546\n",
            "Trainable params: 33,546\n",
            "Non-trainable params: 0\n",
            "_________________________________________________________________\n"
          ]
        }
      ],
      "execution_count": 35,
      "metadata": {
        "collapsed": true,
        "colab": {
          "base_uri": "https://localhost:8080/"
        },
        "id": "HH0YnqtwO3H1",
        "outputId": "e49a96cc-f292-4bac-e703-80c7860227e8"
      }
    },
    {
      "cell_type": "markdown",
      "source": [
        "To keep track of the loss history and validation accuracy, we will use a *callback* function as described in [Keras callback documentation](https://keras.io/callbacks/).  A callback is a class that is passed to the `fit` method.  Complete the `LoadHistory` callback class below to save the loss and validation accuracy."
      ],
      "metadata": {
        "id": "dbz4PL79O3H1"
      }
    },
    {
      "cell_type": "code",
      "source": [
        "class LossHistory(keras.callbacks.Callback):\n",
        "    def on_train_begin(self, logs={}):\n",
        "        # TODO:  Create two empty lists, self.loss and self.val_acc\n",
        "        self.losses = []\n",
        "        self.val_losses = []\n",
        "        self.val_acc = []\n",
        " \n",
        "    def on_batch_end(self, batch, logs={}):\n",
        "        # TODO:  This is called at the end of each batch.  \n",
        "        # Add the loss in logs.get('loss') to the loss list \n",
        "        self.losses.append(logs.get('loss'))\n",
        "        \n",
        "    def on_epoch_end(self, epoch, logs):\n",
        "        # TODO:  This is called at the end of each epoch.  \n",
        "        # Add the test accuracy in logs.get('val_acc') to the val_acc list\n",
        "        self.val_acc.append(logs.get('val_acc'))\n",
        "\n",
        "# Create an instance of the history callback\n",
        "history_cb = LossHistory()"
      ],
      "outputs": [],
      "execution_count": 37,
      "metadata": {
        "collapsed": true,
        "id": "HqVQdrKLO3H1"
      }
    },
    {
      "cell_type": "markdown",
      "source": [
        "Create an optimizer and compile the model.  Select the appropriate loss function and metrics.  For the optimizer, use the Adam optimizer with a learning rate of 0.001"
      ],
      "metadata": {
        "id": "0Fi7sHP4O3H1"
      }
    },
    {
      "cell_type": "code",
      "source": [
        "# TODO\n",
        "# opt = ...\n",
        "# model.compile(...)\n",
        "from tensorflow.keras import optimizers\n",
        "\n",
        "opt = optimizers.Adam(lr=0.001) # beta_1=0.9, beta_2=0.999, epsilon=1e-08, decay=0.0)\n",
        "model.compile(optimizer=opt,loss='sparse_categorical_crossentropy',metrics=['accuracy'])"
      ],
      "outputs": [
        {
          "output_type": "stream",
          "name": "stderr",
          "text": [
            "WARNING:absl:`lr` is deprecated, please use `learning_rate` instead, or use the legacy optimizer, e.g.,tf.keras.optimizers.legacy.Adam.\n"
          ]
        }
      ],
      "execution_count": 38,
      "metadata": {
        "collapsed": true,
        "scrolled": true,
        "colab": {
          "base_uri": "https://localhost:8080/"
        },
        "id": "e5GdqvtjO3H2",
        "outputId": "d6ad4e45-f3e3-4b7b-ee55-bb5b6a071cb5"
      }
    },
    {
      "cell_type": "markdown",
      "source": [
        "Fit the model for 10 epochs using the scaled data for both the training and validation.  Use the `validation_data` option to pass the test data.  Also, pass the callback class create above.  Use a batch size of 100.  Your final accuracy should be >99%."
      ],
      "metadata": {
        "id": "uX-b0UstO3H2"
      }
    },
    {
      "cell_type": "code",
      "source": [
        "# TODO\n",
        "batch_size = 100"
      ],
      "outputs": [],
      "execution_count": null,
      "metadata": {
        "collapsed": true,
        "scrolled": true,
        "id": "cb3iCeYmO3H2"
      }
    },
    {
      "cell_type": "markdown",
      "source": [
        "Plot the validation accuracy saved in the `history_cb`. This gives one accuracy value per epoch.  You should see that the validation accuracy saturates at a little higher than 99%.  After that it \"bounces around\" due to the noise in the stochastic gradient descent."
      ],
      "metadata": {
        "id": "6ljH9fo-O3H2"
      }
    },
    {
      "cell_type": "code",
      "source": [
        "# TODO\n",
        "hist = model.fit(Xtr_scale, ytr, epochs=10, batch_size=100, validation_data=(Xts_scale,yts))"
      ],
      "outputs": [
        {
          "output_type": "stream",
          "name": "stdout",
          "text": [
            "Epoch 1/10\n",
            "663/663 [==============================] - 7s 4ms/step - loss: 0.3530 - accuracy: 0.9037 - val_loss: 0.1854 - val_accuracy: 0.9462\n",
            "Epoch 2/10\n",
            "663/663 [==============================] - 2s 3ms/step - loss: 0.0995 - accuracy: 0.9757 - val_loss: 0.0885 - val_accuracy: 0.9795\n",
            "Epoch 3/10\n",
            "663/663 [==============================] - 2s 3ms/step - loss: 0.0593 - accuracy: 0.9856 - val_loss: 0.0595 - val_accuracy: 0.9840\n",
            "Epoch 4/10\n",
            "663/663 [==============================] - 2s 4ms/step - loss: 0.0422 - accuracy: 0.9893 - val_loss: 0.0469 - val_accuracy: 0.9887\n",
            "Epoch 5/10\n",
            "663/663 [==============================] - 2s 4ms/step - loss: 0.0320 - accuracy: 0.9916 - val_loss: 0.0385 - val_accuracy: 0.9904\n",
            "Epoch 6/10\n",
            "663/663 [==============================] - 2s 3ms/step - loss: 0.0253 - accuracy: 0.9931 - val_loss: 0.0334 - val_accuracy: 0.9905\n",
            "Epoch 7/10\n",
            "663/663 [==============================] - 2s 3ms/step - loss: 0.0206 - accuracy: 0.9944 - val_loss: 0.0314 - val_accuracy: 0.9909\n",
            "Epoch 8/10\n",
            "663/663 [==============================] - 2s 3ms/step - loss: 0.0173 - accuracy: 0.9955 - val_loss: 0.0302 - val_accuracy: 0.9899\n",
            "Epoch 9/10\n",
            "663/663 [==============================] - 2s 3ms/step - loss: 0.0147 - accuracy: 0.9962 - val_loss: 0.0328 - val_accuracy: 0.9886\n",
            "Epoch 10/10\n",
            "663/663 [==============================] - 3s 5ms/step - loss: 0.0128 - accuracy: 0.9966 - val_loss: 0.0271 - val_accuracy: 0.9916\n"
          ]
        }
      ],
      "execution_count": 39,
      "metadata": {
        "collapsed": true,
        "colab": {
          "base_uri": "https://localhost:8080/"
        },
        "id": "9Swwe07YO3H2",
        "outputId": "57fc36e1-beb1-43dc-9791-fd8380f58ff7"
      }
    },
    {
      "cell_type": "markdown",
      "source": [
        "Plot the loss values saved in the `history_cb` class.  Use the `semilogy` plot.  There is one loss value per step.  But, plot the x-axis in epochs.  Note that the epoch in step `i` is `epoch = i*batch_size/ntr` where `batch_size` is the batch_size and `ntr` is the total number of training samples."
      ],
      "metadata": {
        "id": "cDLdRBGBO3H2"
      }
    },
    {
      "cell_type": "code",
      "source": [
        "# TODO\n",
        "\n",
        "epochs=np.arange(1,11)\n",
        "plt.plot(epochs,hist.history['val_accuracy'])\n",
        "plt.ylabel('Validation accuracy')\n",
        "plt.xlabel('Epochs')\n",
        "plt.title('Validation accuracy per epoch')"
      ],
      "outputs": [
        {
          "output_type": "execute_result",
          "data": {
            "text/plain": [
              "Text(0.5, 1.0, 'Validation accuracy per epoch')"
            ]
          },
          "metadata": {},
          "execution_count": 40
        },
        {
          "output_type": "display_data",
          "data": {
            "text/plain": [
              "<Figure size 432x288 with 1 Axes>"
            ],
            "image/png": "[encoded data removed]"
          },
          "metadata": {
            "needs_background": "light"
          }
        }
      ],
      "execution_count": 40,
      "metadata": {
        "collapsed": true,
        "colab": {
          "base_uri": "https://localhost:8080/",
          "height": 312
        },
        "id": "xdtB81jnO3H2",
        "outputId": "04bea5d2-740c-486c-9664-19bd05a56e22"
      }
    },
    {
      "cell_type": "markdown",
      "source": [
        "## Optimizing the Learning Rate\n",
        "\n",
        "One challenge in training neural networks is the selection of the learning rate.  Rerun the above code, trying three learning rates as shown in the vector `rates`.  For each learning rate:\n",
        "* clear the session\n",
        "* construct the network\n",
        "* select the optimizer.  Use the Adam optimizer with the appropriate learrning rate.\n",
        "* train the model\n",
        "* save the accuracy and losses"
      ],
      "metadata": {
        "id": "M6ajMlSOO3H2"
      }
    },
    {
      "cell_type": "code",
      "source": [
        "rates = [0.01,0.001,0.0001]\n",
        "batch_size = 100\n",
        "loss_hist = []\n",
        "val_acc_hist = []\n",
        "\n",
        "for lr in rates:\n",
        "    Kt.clear_session()\n",
        "    input1 = Xtr_scale.shape[1]  # dimension of input data\n",
        "    hidden_layer = 256     # number of hidden units\n",
        "    output_layer = int(np.max(ytr)+1)\n",
        "    print(output_layer)\n",
        "    model = Sequential()\n",
        "    model.add(Dense(units= hidden_layer, input_shape=( input1,), activation='sigmoid', name='hidden'))\n",
        "    model.add(Dense(units=output_layer, activation='softmax', name='output'))\n",
        "    opt = optimizers.Adam(lr) # beta_1=0.9, beta_2=0.999, epsilon=1e-08, decay=0.0)\n",
        "    model.compile(optimizer=opt,loss='sparse_categorical_crossentropy',metrics=['accuracy'])\n",
        "    hist = model.fit(Xtr_scale, ytr, epochs=20,batch_size=100, validation_data=(Xts_scale,yts))\n",
        "    loss_hist.append(hist.history['loss'])\n",
        "    val_acc_hist.append(hist.history['val_accuracy'])\n"
      ],
      "outputs": [
        {
          "output_type": "stream",
          "name": "stdout",
          "text": [
            "10\n",
            "Epoch 1/20\n",
            "663/663 [==============================] - 3s 4ms/step - loss: 0.1055 - accuracy: 0.9673 - val_loss: 0.0490 - val_accuracy: 0.9826\n",
            "Epoch 2/20\n",
            "663/663 [==============================] - 3s 4ms/step - loss: 0.0283 - accuracy: 0.9911 - val_loss: 0.0293 - val_accuracy: 0.9895\n",
            "Epoch 3/20\n",
            "663/663 [==============================] - 2s 4ms/step - loss: 0.0230 - accuracy: 0.9926 - val_loss: 0.0350 - val_accuracy: 0.9874\n",
            "Epoch 4/20\n",
            "663/663 [==============================] - 2s 3ms/step - loss: 0.0163 - accuracy: 0.9945 - val_loss: 0.0397 - val_accuracy: 0.9871\n",
            "Epoch 5/20\n",
            "663/663 [==============================] - 2s 3ms/step - loss: 0.0192 - accuracy: 0.9941 - val_loss: 0.0413 - val_accuracy: 0.9862\n",
            "Epoch 6/20\n",
            "663/663 [==============================] - 2s 3ms/step - loss: 0.0143 - accuracy: 0.9954 - val_loss: 0.0445 - val_accuracy: 0.9862\n",
            "Epoch 7/20\n",
            "663/663 [==============================] - 2s 3ms/step - loss: 0.0121 - accuracy: 0.9960 - val_loss: 0.0400 - val_accuracy: 0.9893\n",
            "Epoch 8/20\n",
            "663/663 [==============================] - 3s 4ms/step - loss: 0.0179 - accuracy: 0.9945 - val_loss: 0.0370 - val_accuracy: 0.9882\n",
            "Epoch 9/20\n",
            "663/663 [==============================] - 2s 3ms/step - loss: 0.0087 - accuracy: 0.9970 - val_loss: 0.0674 - val_accuracy: 0.9799\n",
            "Epoch 10/20\n",
            "663/663 [==============================] - 2s 3ms/step - loss: 0.0097 - accuracy: 0.9968 - val_loss: 0.0286 - val_accuracy: 0.9926\n",
            "Epoch 11/20\n",
            "663/663 [==============================] - 2s 3ms/step - loss: 0.0127 - accuracy: 0.9959 - val_loss: 0.0385 - val_accuracy: 0.9897\n",
            "Epoch 12/20\n",
            "663/663 [==============================] - 2s 3ms/step - loss: 0.0121 - accuracy: 0.9964 - val_loss: 0.0403 - val_accuracy: 0.9905\n",
            "Epoch 13/20\n",
            "663/663 [==============================] - 3s 4ms/step - loss: 0.0080 - accuracy: 0.9976 - val_loss: 0.0258 - val_accuracy: 0.9930\n",
            "Epoch 14/20\n",
            "663/663 [==============================] - 2s 3ms/step - loss: 0.0119 - accuracy: 0.9963 - val_loss: 0.0483 - val_accuracy: 0.9883\n",
            "Epoch 15/20\n",
            "663/663 [==============================] - 2s 3ms/step - loss: 0.0102 - accuracy: 0.9967 - val_loss: 0.1098 - val_accuracy: 0.9809\n",
            "Epoch 16/20\n",
            "663/663 [==============================] - 2s 3ms/step - loss: 0.0077 - accuracy: 0.9976 - val_loss: 0.0422 - val_accuracy: 0.9893\n",
            "Epoch 17/20\n",
            "663/663 [==============================] - 2s 3ms/step - loss: 0.0096 - accuracy: 0.9971 - val_loss: 0.0463 - val_accuracy: 0.9897\n",
            "Epoch 18/20\n",
            "663/663 [==============================] - 3s 4ms/step - loss: 0.0102 - accuracy: 0.9968 - val_loss: 0.0537 - val_accuracy: 0.9883\n",
            "Epoch 19/20\n",
            "663/663 [==============================] - 2s 4ms/step - loss: 0.0096 - accuracy: 0.9972 - val_loss: 0.0751 - val_accuracy: 0.9848\n",
            "Epoch 20/20\n",
            "663/663 [==============================] - 2s 3ms/step - loss: 0.0087 - accuracy: 0.9976 - val_loss: 0.0567 - val_accuracy: 0.9875\n",
            "10\n",
            "Epoch 1/20\n",
            "663/663 [==============================] - 3s 3ms/step - loss: 0.3642 - accuracy: 0.9021 - val_loss: 0.1691 - val_accuracy: 0.9638\n",
            "Epoch 2/20\n",
            "663/663 [==============================] - 2s 3ms/step - loss: 0.1011 - accuracy: 0.9764 - val_loss: 0.0848 - val_accuracy: 0.9816\n",
            "Epoch 3/20\n",
            "663/663 [==============================] - 3s 4ms/step - loss: 0.0593 - accuracy: 0.9856 - val_loss: 0.0630 - val_accuracy: 0.9848\n",
            "Epoch 4/20\n",
            "663/663 [==============================] - 2s 3ms/step - loss: 0.0420 - accuracy: 0.9895 - val_loss: 0.0481 - val_accuracy: 0.9877\n",
            "Epoch 5/20\n",
            "663/663 [==============================] - 2s 3ms/step - loss: 0.0314 - accuracy: 0.9919 - val_loss: 0.0438 - val_accuracy: 0.9889\n",
            "Epoch 6/20\n",
            "663/663 [==============================] - 2s 3ms/step - loss: 0.0253 - accuracy: 0.9934 - val_loss: 0.0400 - val_accuracy: 0.9885\n",
            "Epoch 7/20\n",
            "663/663 [==============================] - 2s 3ms/step - loss: 0.0202 - accuracy: 0.9947 - val_loss: 0.0293 - val_accuracy: 0.9913\n",
            "Epoch 8/20\n",
            "663/663 [==============================] - 3s 4ms/step - loss: 0.0171 - accuracy: 0.9955 - val_loss: 0.0265 - val_accuracy: 0.9923\n",
            "Epoch 9/20\n",
            "663/663 [==============================] - 2s 3ms/step - loss: 0.0145 - accuracy: 0.9963 - val_loss: 0.0268 - val_accuracy: 0.9912\n",
            "Epoch 10/20\n",
            "663/663 [==============================] - 2s 3ms/step - loss: 0.0126 - accuracy: 0.9969 - val_loss: 0.0217 - val_accuracy: 0.9933\n",
            "Epoch 11/20\n",
            "663/663 [==============================] - 2s 3ms/step - loss: 0.0115 - accuracy: 0.9970 - val_loss: 0.0287 - val_accuracy: 0.9906\n",
            "Epoch 12/20\n",
            "663/663 [==============================] - 2s 3ms/step - loss: 0.0099 - accuracy: 0.9974 - val_loss: 0.0250 - val_accuracy: 0.9913\n",
            "Epoch 13/20\n",
            "663/663 [==============================] - 2s 3ms/step - loss: 0.0092 - accuracy: 0.9975 - val_loss: 0.0225 - val_accuracy: 0.9920\n",
            "Epoch 14/20\n",
            "663/663 [==============================] - 3s 4ms/step - loss: 0.0083 - accuracy: 0.9977 - val_loss: 0.0327 - val_accuracy: 0.9887\n",
            "Epoch 15/20\n",
            "663/663 [==============================] - 2s 3ms/step - loss: 0.0072 - accuracy: 0.9982 - val_loss: 0.0259 - val_accuracy: 0.9909\n",
            "Epoch 16/20\n",
            "663/663 [==============================] - 2s 3ms/step - loss: 0.0070 - accuracy: 0.9982 - val_loss: 0.0218 - val_accuracy: 0.9927\n",
            "Epoch 17/20\n",
            "663/663 [==============================] - 2s 3ms/step - loss: 0.0063 - accuracy: 0.9982 - val_loss: 0.0206 - val_accuracy: 0.9932\n",
            "Epoch 18/20\n",
            "663/663 [==============================] - 2s 3ms/step - loss: 0.0057 - accuracy: 0.9984 - val_loss: 0.0301 - val_accuracy: 0.9899\n",
            "Epoch 19/20\n",
            "663/663 [==============================] - 3s 5ms/step - loss: 0.0053 - accuracy: 0.9986 - val_loss: 0.0294 - val_accuracy: 0.9902\n",
            "Epoch 20/20\n",
            "663/663 [==============================] - 2s 3ms/step - loss: 0.0053 - accuracy: 0.9986 - val_loss: 0.0242 - val_accuracy: 0.9928\n",
            "10\n",
            "Epoch 1/20\n",
            "663/663 [==============================] - 3s 3ms/step - loss: 1.1119 - accuracy: 0.6563 - val_loss: 0.8650 - val_accuracy: 0.6629\n",
            "Epoch 2/20\n",
            "663/663 [==============================] - 3s 4ms/step - loss: 0.5557 - accuracy: 0.8411 - val_loss: 0.5714 - val_accuracy: 0.8323\n",
            "Epoch 3/20\n",
            "663/663 [==============================] - 3s 4ms/step - loss: 0.3842 - accuracy: 0.9091 - val_loss: 0.4474 - val_accuracy: 0.8647\n",
            "Epoch 4/20\n",
            "663/663 [==============================] - 2s 3ms/step - loss: 0.2968 - accuracy: 0.9329 - val_loss: 0.3569 - val_accuracy: 0.8973\n",
            "Epoch 5/20\n",
            "663/663 [==============================] - 2s 3ms/step - loss: 0.2413 - accuracy: 0.9453 - val_loss: 0.2837 - val_accuracy: 0.9240\n",
            "Epoch 6/20\n",
            "663/663 [==============================] - 2s 3ms/step - loss: 0.2014 - accuracy: 0.9545 - val_loss: 0.2453 - val_accuracy: 0.9308\n",
            "Epoch 7/20\n",
            "663/663 [==============================] - 2s 3ms/step - loss: 0.1709 - accuracy: 0.9605 - val_loss: 0.2001 - val_accuracy: 0.9480\n",
            "Epoch 8/20\n",
            "663/663 [==============================] - 3s 4ms/step - loss: 0.1468 - accuracy: 0.9657 - val_loss: 0.1756 - val_accuracy: 0.9529\n",
            "Epoch 9/20\n",
            "663/663 [==============================] - 2s 3ms/step - loss: 0.1275 - accuracy: 0.9699 - val_loss: 0.1535 - val_accuracy: 0.9574\n",
            "Epoch 10/20\n",
            "663/663 [==============================] - 2s 3ms/step - loss: 0.1118 - accuracy: 0.9739 - val_loss: 0.1305 - val_accuracy: 0.9691\n",
            "Epoch 11/20\n",
            "663/663 [==============================] - 2s 3ms/step - loss: 0.0991 - accuracy: 0.9772 - val_loss: 0.1219 - val_accuracy: 0.9669\n",
            "Epoch 12/20\n",
            "663/663 [==============================] - 2s 3ms/step - loss: 0.0886 - accuracy: 0.9797 - val_loss: 0.1103 - val_accuracy: 0.9695\n",
            "Epoch 13/20\n",
            "663/663 [==============================] - 3s 4ms/step - loss: 0.0799 - accuracy: 0.9816 - val_loss: 0.0976 - val_accuracy: 0.9736\n",
            "Epoch 14/20\n",
            "663/663 [==============================] - 2s 3ms/step - loss: 0.0727 - accuracy: 0.9833 - val_loss: 0.0896 - val_accuracy: 0.9760\n",
            "Epoch 15/20\n",
            "663/663 [==============================] - 2s 3ms/step - loss: 0.0665 - accuracy: 0.9846 - val_loss: 0.0829 - val_accuracy: 0.9787\n",
            "Epoch 16/20\n",
            "663/663 [==============================] - 2s 3ms/step - loss: 0.0613 - accuracy: 0.9859 - val_loss: 0.0829 - val_accuracy: 0.9768\n",
            "Epoch 17/20\n",
            "663/663 [==============================] - 2s 3ms/step - loss: 0.0568 - accuracy: 0.9867 - val_loss: 0.0754 - val_accuracy: 0.9792\n",
            "Epoch 18/20\n",
            "663/663 [==============================] - 3s 4ms/step - loss: 0.0529 - accuracy: 0.9875 - val_loss: 0.0665 - val_accuracy: 0.9836\n",
            "Epoch 19/20\n",
            "663/663 [==============================] - 2s 4ms/step - loss: 0.0495 - accuracy: 0.9882 - val_loss: 0.0628 - val_accuracy: 0.9844\n",
            "Epoch 20/20\n",
            "663/663 [==============================] - 2s 3ms/step - loss: 0.0465 - accuracy: 0.9887 - val_loss: 0.0625 - val_accuracy: 0.9840\n"
          ]
        }
      ],
      "execution_count": 46,
      "metadata": {
        "collapsed": true,
        "colab": {
          "base_uri": "https://localhost:8080/"
        },
        "id": "xlUno5uzO3H3",
        "outputId": "f47e08ac-33ad-4eaa-fb66-6a6f98e9c635"
      }
    },
    {
      "cell_type": "code",
      "source": [
        "loss_hist = np.array(loss_hist)"
      ],
      "metadata": {
        "id": "fmOEtFa1tomP"
      },
      "execution_count": 47,
      "outputs": []
    },
    {
      "cell_type": "markdown",
      "source": [
        "Plot the loss funciton vs. the epoch number for all three learning rates on one graph.  You should see that the lower learning rates are more stable, but converge slower."
      ],
      "metadata": {
        "id": "kQoEwOCXO3H3"
      }
    },
    {
      "cell_type": "code",
      "source": [
        "# TODO\n",
        "epochs=np.arange(1,21)\n",
        "plt.plot( epochs,loss_hist[0, :],label='rate=0.01')\n",
        "plt.plot(epochs,loss_hist[1, :],label='rate=0.001')\n",
        "plt.plot(epochs,loss_hist[2, :],label='rate=0.0001')\n",
        "plt.legend() \n",
        "plt.xlim(0,21)\n",
        "plt.xlabel('epochs')\n",
        "plt.ylabel('loss function')\n",
        "plt.title('Loss Function for each Epoch')\n"
      ],
      "outputs": [
        {
          "output_type": "execute_result",
          "data": {
            "text/plain": [
              "Text(0.5, 1.0, 'Loss Function for each Epoch')"
            ]
          },
          "metadata": {},
          "execution_count": 48
        },
        {
          "output_type": "display_data",
          "data": {
            "text/plain": [
              "<Figure size 432x288 with 1 Axes>"
            ],
            "image/png": "[encoded data removed]"
          },
          "metadata": {
            "needs_background": "light"
          }
        }
      ],
      "execution_count": 48,
      "metadata": {
        "collapsed": true,
        "colab": {
          "base_uri": "https://localhost:8080/",
          "height": 312
        },
        "id": "Dk_padJyO3H3",
        "outputId": "cefb1c10-e2b9-4434-a55a-9988fd0eb7fe"
      }
    },
    {
      "cell_type": "code",
      "source": [],
      "outputs": [],
      "execution_count": null,
      "metadata": {
        "collapsed": true,
        "id": "NCdf-DIlO3H3"
      }
    },
    {
      "cell_type": "code",
      "source": [],
      "outputs": [],
      "execution_count": null,
      "metadata": {
        "collapsed": true,
        "id": "Krr67L5UO3H3"
      }
    }
  ],
  "metadata": {
    "anaconda-cloud": {},
    "kernelspec": {
      "display_name": "Python [conda root]",
      "language": "python",
      "name": "conda-root-py"
    },
    "language_info": {
      "codemirror_mode": {
        "name": "ipython",
        "version": 3
      },
      "file_extension": ".py",
      "mimetype": "text/x-python",
      "name": "python",
      "nbconvert_exporter": "python",
      "pygments_lexer": "ipython3",
      "version": "3.5.4"
    },
    "nteract": {
      "version": "0.28.0"
    },
    "colab": {
      "provenance": []
    },
    "accelerator": "GPU",
    "gpuClass": "standard"
  },
  "nbformat": 4,
  "nbformat_minor": 0
}