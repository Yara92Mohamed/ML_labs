{
  "cells": [
    {
      "cell_type": "markdown",
      "metadata": {
        "id": "eA3iJPEYX9lw"
      },
      "source": [
        "# Lab 5: Support Vector Machines\n",
        "\n",
        "Support Vector Machines (SVM) are a method that uses points in a transformed problem space that best separate classes into two groups. Classification for multiple classes is then supported by a one-vs-all method (just like we previously did for Logistic Regression for Multi Class Classification).\n",
        "\n",
        "\n"
      ]
    },
    {
      "cell_type": "markdown",
      "metadata": {
        "id": "BxUZJKOBX9lx"
      },
      "source": [
        "##  Introduction to Support Vector Machines\n",
        "\n",
        "Formal Explanation:\n",
        "\n",
        "In machine learning, support vector machines (SVMs) are supervised learning models with associated learning algorithms that analyze data and recognize patterns, used for classification and regression analysis. Given a set of training examples, each marked for belonging to one of two categories, an SVM training algorithm builds a model that assigns new examples into one category or the other, making it a non-probabilistic binary linear classifier. An SVM model is a representation of the examples as points in space, mapped so that the examples of the separate categories are divided by a clear gap that is as wide as possible. New examples are then mapped into that same space and predicted to belong to a category based on which side of the gap they fall on.\n",
        "\n",
        "The advantages of support vector machines are:\n",
        "\n",
        "* Effective in high dimensional spaces.\n",
        "* Still effective in cases where number of dimensions is greater than the number of samples.\n",
        "* Uses a subset of training points in the decision function (called support vectors), so it is also memory efficient.\n",
        "* Versatile: different Kernel functions can be specified for the decision function. Common kernels are provided, but it is also possible to specify custom kernels.\n",
        "\n",
        "The disadvantages of support vector machines include:\n",
        "\n",
        "* If the number of features is much greater than the number of samples, the method is likely to give poor performances.\n",
        "* SVMs do not directly provide probability estimates, these are calculated using an expensive five-fold cross-validation (see Scores and probabilities, below).\n",
        "\n",
        "Let's go ahead and break down the main idea of SVMs!"
      ]
    },
    {
      "cell_type": "markdown",
      "metadata": {
        "id": "s9KGWlKtX9lx"
      },
      "source": [
        "##  SVM General Explanation\n",
        "\n",
        "We'll start by imagining a situation in which we want to seperate a training set with two classes. We have two classes in our set, blue and red. We plot them out in the feature space and we try to place a green line that seperates both classes."
      ]
    },
    {
      "cell_type": "code",
      "execution_count": null,
      "metadata": {
        "id": "yiukyGvcX9ly"
      },
      "outputs": [],
      "source": [
        "from IPython.display import Image\n",
        "url = 'http://docs.opencv.org/_images/separating-lines.png'\n",
        "Image(url)"
      ]
    },
    {
      "cell_type": "markdown",
      "metadata": {
        "id": "dl7SfCUcX9ly"
      },
      "source": [
        "From the image above we see that we have multiple ways of drawing this line (which we will call a hyperplane) that can seperate the classes completely. So which is the optimal line?\n",
        "\n",
        "We decide that the optimal hyperplane that seperates these two classes is the one with the maximum margin between the two classes as seen in the image below:"
      ]
    },
    {
      "cell_type": "code",
      "execution_count": null,
      "metadata": {
        "id": "vZUBZI9zX9lz"
      },
      "outputs": [],
      "source": [
        "url= 'http://docs.opencv.org/_images/optimal-hyperplane.png'\n",
        "Image(url)"
      ]
    },
    {
      "cell_type": "markdown",
      "metadata": {
        "id": "-d9Ap1wiX9lz"
      },
      "source": [
        "\n",
        "\n",
        "## Computing the Hyperplane\n",
        "\n",
        "Let's go ahead and start by defining the Hyperplane in this case with the equation of a line, where Beta tranposed is the known weight vector of the features we've seen before and Beta nought is the bias.\n",
        "\n",
        "$$ f(x) = \\beta_{0} + \\beta^{T} x $$\n",
        "\n",
        "There are an infinite number of ways we could scale the weight vector and the bias, but remember we want to maximize the margin between the two classes. So we realize through some math (explained in detail the videos below) can set this as:\n",
        "\n",
        "$$ |\\beta_{0} + \\beta^{T} x| = 1 $$\n",
        "\n",
        "where x symbolizes the training examples closest to the hyperplane. In general, the training examples that are closest to the hyperplane are called support vectors. These support vectors are filled in with color in the image above. This representation is known as the canonical hyperplane.\n",
        "\n",
        "From geometry we know that the distance betweeen a point x and the hyperplane (Beta,Beta<sub>0</sub>)is:\n",
        "\n",
        "$$\\mathrm{distance} = \\frac{|\\beta_{0} + \\beta^{T} x|}{||\\beta||}.$$\n",
        "\n",
        "In particular, for the canonical hyperplane, the numerator is equal to one and the distance to the support vectors is\n",
        "\n",
        "$$\\mathrm{distance}_{\\text{ support vectors}} = \\frac{|\\beta_{0} + \\beta^{T} x|}{||\\beta||} = \\frac{1}{||\\beta||}$$\n",
        "\n",
        "Recall that the margin introduced in the previous section, here denoted as M, is twice the distance to the closest examples:\n",
        "\n",
        "$$M = \\frac{2}{||\\beta||}$$\n",
        "\n",
        "Finally, the problem of maximizing M is equivalent to the problem of minimizing a function L(Beta) subject to some constraints. The constraints model the requirement for the hyperplane to classify correctly all the training examples x<sub>i</sub>.\n",
        "\n",
        "Formally,\n",
        "\n",
        "$$\\min_{\\beta, \\beta_{0}} L(\\beta) = \\frac{1}{2}||\\beta||^{2} \\text{ subject to } y_{i}(\\beta^{T} x_{i} + \\beta_{0}) \\geq 1 \\text{ } \\forall i$$\n",
        "\n",
        "where y<sub>i</sub> represents each of the labels of the training examples.\n",
        "\n",
        "This is a problem of [Lagrangian optimization](http://en.wikipedia.org/wiki/Lagrange_multiplier) that can be solved using Lagrange multipliers to obtain the weight vector Beta and the bias Beta<sub>0</sub> of the optimal hyperplane.\n",
        "\n",
        "If we want to do non-linear classification we can employ the [kernel trick](http://en.wikipedia.org/wiki/Kernel_method). Using the kernel trick we can \"slice\" the feature space with a Hyperplane. For a quick illustraion of what this looks like, check out both the image and the video below!"
      ]
    },
    {
      "cell_type": "markdown",
      "metadata": {
        "id": "exT0iN8pX9lz"
      },
      "source": [
        "## SVM with SciKit-Learn\n",
        "\n",
        "Now we are ready to jump into some Python code and Sci Kit Learn, we'll start with some basic imports and we will import Sci Kit Learn along the way while we use it."
      ]
    },
    {
      "cell_type": "code",
      "execution_count": null,
      "metadata": {
        "id": "N_bzPbSkX9lz"
      },
      "outputs": [],
      "source": [
        "# TODO: the right Imports (numpy, matplotlib)\n",
        "import numpy as np\n",
        "import pandas as pd\n",
        "import matplotlib\n",
        "import matplotlib.pyplot as plt\n",
        "%matplotlib inline\n",
        "from sklearn import datasets"
      ]
    },
    {
      "cell_type": "code",
      "execution_count": null,
      "metadata": {
        "jupyter": {
          "outputs_hidden": false,
          "source_hidden": false
        },
        "nteract": {
          "transient": {
            "deleting": false
          }
        },
        "id": "xGKHu2f1X9l0"
      },
      "outputs": [],
      "source": [
        "#TODO: Import the Iris dataset\n",
        "\n"
      ]
    },
    {
      "cell_type": "markdown",
      "metadata": {
        "id": "KvU0DC74X9l0"
      },
      "source": [
        "First we'll start by importing the Data set we are already very familiar with, the Iris Data Set"
      ]
    },
    {
      "cell_type": "code",
      "execution_count": null,
      "metadata": {
        "colab": {
          "base_uri": "https://localhost:8080/"
        },
        "id": "ekElUiTbX9l0",
        "outputId": "30fafb0c-019b-46dd-b85e-bd2e08997eeb"
      },
      "outputs": [
        {
          "output_type": "stream",
          "name": "stdout",
          "text": [
            ".. _iris_dataset:\n",
            "\n",
            "Iris plants dataset\n",
            "--------------------\n",
            "\n",
            "**Data Set Characteristics:**\n",
            "\n",
            "    :Number of Instances: 150 (50 in each of three classes)\n",
            "    :Number of Attributes: 4 numeric, predictive attributes and the class\n",
            "    :Attribute Information:\n",
            "        - sepal length in cm\n",
            "        - sepal width in cm\n",
            "        - petal length in cm\n",
            "        - petal width in cm\n",
            "        - class:\n",
            "                - Iris-Setosa\n",
            "                - Iris-Versicolour\n",
            "                - Iris-Virginica\n",
            "                \n",
            "    :Summary Statistics:\n",
            "\n",
            "    ============== ==== ==== ======= ===== ====================\n",
            "                    Min  Max   Mean    SD   Class Correlation\n",
            "    ============== ==== ==== ======= ===== ====================\n",
            "    sepal length:   4.3  7.9   5.84   0.83    0.7826\n",
            "    sepal width:    2.0  4.4   3.05   0.43   -0.4194\n",
            "    petal length:   1.0  6.9   3.76   1.76    0.9490  (high!)\n",
            "    petal width:    0.1  2.5   1.20   0.76    0.9565  (high!)\n",
            "    ============== ==== ==== ======= ===== ====================\n",
            "\n",
            "    :Missing Attribute Values: None\n",
            "    :Class Distribution: 33.3% for each of 3 classes.\n",
            "    :Creator: R.A. Fisher\n",
            "    :Donor: Michael Marshall (MARSHALL%PLU@io.arc.nasa.gov)\n",
            "    :Date: July, 1988\n",
            "\n",
            "The famous Iris database, first used by Sir R.A. Fisher. The dataset is taken\n",
            "from Fisher's paper. Note that it's the same as in R, but not as in the UCI\n",
            "Machine Learning Repository, which has two wrong data points.\n",
            "\n",
            "This is perhaps the best known database to be found in the\n",
            "pattern recognition literature.  Fisher's paper is a classic in the field and\n",
            "is referenced frequently to this day.  (See Duda & Hart, for example.)  The\n",
            "data set contains 3 classes of 50 instances each, where each class refers to a\n",
            "type of iris plant.  One class is linearly separable from the other 2; the\n",
            "latter are NOT linearly separable from each other.\n",
            "\n",
            ".. topic:: References\n",
            "\n",
            "   - Fisher, R.A. \"The use of multiple measurements in taxonomic problems\"\n",
            "     Annual Eugenics, 7, Part II, 179-188 (1936); also in \"Contributions to\n",
            "     Mathematical Statistics\" (John Wiley, NY, 1950).\n",
            "   - Duda, R.O., & Hart, P.E. (1973) Pattern Classification and Scene Analysis.\n",
            "     (Q327.D83) John Wiley & Sons.  ISBN 0-471-22361-1.  See page 218.\n",
            "   - Dasarathy, B.V. (1980) \"Nosing Around the Neighborhood: A New System\n",
            "     Structure and Classification Rule for Recognition in Partially Exposed\n",
            "     Environments\".  IEEE Transactions on Pattern Analysis and Machine\n",
            "     Intelligence, Vol. PAMI-2, No. 1, 67-71.\n",
            "   - Gates, G.W. (1972) \"The Reduced Nearest Neighbor Rule\".  IEEE Transactions\n",
            "     on Information Theory, May 1972, 431-433.\n",
            "   - See also: 1988 MLC Proceedings, 54-64.  Cheeseman et al\"s AUTOCLASS II\n",
            "     conceptual clustering system finds 3 classes in the data.\n",
            "   - Many, many more ...\n"
          ]
        }
      ],
      "source": [
        "\n",
        "\n",
        "# load the iris datasets\n",
        "iris_dataset = datasets.load_iris()\n",
        "\n",
        "# Grab features (X) and the Target (Y)\n",
        "X = iris_dataset .data\n",
        "\n",
        "Y = iris_dataset.target\n",
        "\n",
        "# Show the Built-in Data Description\n",
        "print (iris_dataset.DESCR)"
      ]
    },
    {
      "cell_type": "code",
      "source": [
        "X[:5]"
      ],
      "metadata": {
        "colab": {
          "base_uri": "https://localhost:8080/"
        },
        "id": "xH61Z5-jarUF",
        "outputId": "b3d04ce2-471f-4a89-c079-f2cbaadc1afb"
      },
      "execution_count": null,
      "outputs": [
        {
          "output_type": "execute_result",
          "data": {
            "text/plain": [
              "array([[5.1, 3.5, 1.4, 0.2],\n",
              "       [4.9, 3. , 1.4, 0.2],\n",
              "       [4.7, 3.2, 1.3, 0.2],\n",
              "       [4.6, 3.1, 1.5, 0.2],\n",
              "       [5. , 3.6, 1.4, 0.2]])"
            ]
          },
          "metadata": {},
          "execution_count": 9
        }
      ]
    },
    {
      "cell_type": "code",
      "source": [
        "Y[:5]"
      ],
      "metadata": {
        "colab": {
          "base_uri": "https://localhost:8080/"
        },
        "id": "x8pVJekva16k",
        "outputId": "ab3bd00d-b067-4248-abc0-961c4e477fec"
      },
      "execution_count": null,
      "outputs": [
        {
          "output_type": "execute_result",
          "data": {
            "text/plain": [
              "array([0, 0, 0, 0, 0])"
            ]
          },
          "metadata": {},
          "execution_count": 21
        }
      ]
    },
    {
      "cell_type": "markdown",
      "metadata": {
        "id": "bFVUsrLdX9l1"
      },
      "source": [
        "#TODO: Now import the [SVC](http://scikit-learn.org/stable/modules/generated/sklearn.svm.SVC.html) (Support Vector Classification) from the [SVM library of Sci Kit Learn](http://scikit-learn.org/stable/modules/svm.html), I encourage you to check out the other types of SVM options in the Sci Kit Learn Documentation!"
      ]
    },
    {
      "cell_type": "code",
      "execution_count": null,
      "metadata": {
        "id": "1mBUmQN-X9l1"
      },
      "outputs": [],
      "source": [
        "# Support Vector Machine Imports\n",
        "from sklearn.svm import SVC"
      ]
    },
    {
      "cell_type": "markdown",
      "metadata": {
        "id": "dIiyFe3wX9l1"
      },
      "source": [
        "#TODO: Now we create a Support Vector Classification model for the data."
      ]
    },
    {
      "cell_type": "code",
      "execution_count": null,
      "metadata": {
        "id": "-B87axGVX9l1"
      },
      "outputs": [],
      "source": [
        "# Fit a SVM model to the data\n",
        "model = SVC()"
      ]
    },
    {
      "cell_type": "markdown",
      "metadata": {
        "id": "iRwP3b_XX9l1"
      },
      "source": [
        "#TODO: Now  split the data into a training set and a testing set and then train our model."
      ]
    },
    {
      "cell_type": "code",
      "execution_count": null,
      "metadata": {
        "id": "gjRu5ucdX9l1"
      },
      "outputs": [],
      "source": [
        "from sklearn.model_selection import train_test_split\n",
        "# Split the data into Trainging and Testing sets\n",
        "X_train, X_test, Y_train, Y_test = train_test_split(X, Y)"
      ]
    },
    {
      "cell_type": "code",
      "source": [
        "X_train[:5]"
      ],
      "metadata": {
        "colab": {
          "base_uri": "https://localhost:8080/"
        },
        "id": "ZZ4RJX5ibV1-",
        "outputId": "b7e4e4a6-5ae4-4b47-e9a0-c1479a925930"
      },
      "execution_count": null,
      "outputs": [
        {
          "output_type": "execute_result",
          "data": {
            "text/plain": [
              "array([[5.7, 3.8, 1.7, 0.3],\n",
              "       [5.5, 2.5, 4. , 1.3],\n",
              "       [6.7, 3.1, 5.6, 2.4],\n",
              "       [6.3, 2.8, 5.1, 1.5],\n",
              "       [6.8, 3.2, 5.9, 2.3]])"
            ]
          },
          "metadata": {},
          "execution_count": 18
        }
      ]
    },
    {
      "cell_type": "code",
      "source": [
        "Y_train[:5]"
      ],
      "metadata": {
        "colab": {
          "base_uri": "https://localhost:8080/"
        },
        "id": "LRBYY27zbWBf",
        "outputId": "6539d6ff-2934-4b5d-a76f-9abe17d980a6"
      },
      "execution_count": null,
      "outputs": [
        {
          "output_type": "execute_result",
          "data": {
            "text/plain": [
              "array([0, 1, 2, 2, 2])"
            ]
          },
          "metadata": {},
          "execution_count": 19
        }
      ]
    },
    {
      "cell_type": "markdown",
      "metadata": {
        "id": "wGOy_x1AX9l2"
      },
      "source": [
        "# TODO: Fit the model"
      ]
    },
    {
      "cell_type": "code",
      "execution_count": null,
      "metadata": {
        "colab": {
          "base_uri": "https://localhost:8080/"
        },
        "id": "Qwb2xoFcX9l2",
        "outputId": "0c33c0dd-6453-4a2c-d952-cdb9b75fb672"
      },
      "outputs": [
        {
          "output_type": "execute_result",
          "data": {
            "text/plain": [
              "SVC()"
            ]
          },
          "metadata": {},
          "execution_count": 20
        }
      ],
      "source": [
        "# Fit the model\n",
        "model.fit(X_train, Y_train)"
      ]
    },
    {
      "cell_type": "markdown",
      "metadata": {
        "id": "HSqrQC8AX9l2"
      },
      "source": [
        "Now we'll go ahead and see how well our model did!\n",
        "#TODO:\n",
        "    1. predict the output of the model using the test data\n",
        "    2. print the accuracy score"
      ]
    },
    {
      "cell_type": "code",
      "execution_count": null,
      "metadata": {
        "colab": {
          "base_uri": "https://localhost:8080/"
        },
        "id": "7xuXOHdLX9l2",
        "outputId": "bd0092ca-af32-4a50-8c65-625a20cc93a6"
      },
      "outputs": [
        {
          "output_type": "stream",
          "name": "stdout",
          "text": [
            "0.9210526315789473\n"
          ]
        }
      ],
      "source": [
        "from sklearn import metrics\n",
        "\n",
        "# Get predictions\n",
        "y_predicted = model.predict(X_test)\n",
        "expected_y = Y_test\n",
        "\n",
        "# Compare results\n",
        "print (metrics.accuracy_score(expected_y,y_predicted))"
      ]
    },
    {
      "cell_type": "markdown",
      "metadata": {
        "id": "LKezXkb2X9l2"
      },
      "source": [
        "\n",
        "\n",
        "Now that we've gone through a basic implementation of SVM lets go ahead and quickly explore the various kernel types we can use for classification. We can do this by plotting out the boundaries created by each kernel type! We'll start with some imports and by setting up the data.\n",
        "\n",
        "The four methods we will explore are two linear models, a Gaussian [Radial Basis Function](http://en.wikipedia.org/wiki/Radial_basis_function),and a SVC with a polynomial (3rd Degree) kernel.\n",
        "\n",
        "The linear models LinearSVC() and SVC(kernel='linear') yield slightly different decision boundaries. This can be a consequence of the following differences:\n",
        "\n",
        "* LinearSVC minimizes the squared hinge loss while SVC minimizes the regular hinge loss.\n",
        "* LinearSVC uses the One-vs-All (also known as One-vs-Rest) multiclass reduction while SVC uses the One-vs-One multiclass reduction."
      ]
    },
    {
      "cell_type": "code",
      "execution_count": null,
      "metadata": {
        "id": "Ty5cx53SX9l3"
      },
      "outputs": [],
      "source": [
        "\n",
        "# Import all SVM\n",
        "from sklearn import svm\n",
        "\n",
        "# We'll use all the data and not bother with a split between training and testing. We'll also only use two features.\n",
        "X = iris_dataset.data[:,:2]\n",
        "Y = iris_dataset.target\n",
        "\n",
        "# SVM regularization parameter\n",
        "C = 1.0\n",
        "\n",
        "\"\"\"quickly explore the various kernel types we can use for classification\"\"\"\n",
        "\n",
        "# TODO: SVC with a Linear Kernel  (our original example)\n",
        "svc = svm.SVC(kernel='linear', C=C).fit(X, Y)\n",
        "\n",
        "# TODO: Gaussian Radial Bassis Function\n",
        "rbf_svc = SVC(kernel ='rbf', gamma = 0.7, C=C).fit(X, Y)\n",
        "\n",
        "# TODO: SVC with 3rd degree poynomial\n",
        "poly_svc = SVC(kernel ='poly', degree=3, C=C).fit(X, Y)\n",
        "\n",
        "# TODO: SVC Linear\n",
        "lin_svc = SVC(C=C).fit(X, Y)"
      ]
    },
    {
      "cell_type": "markdown",
      "metadata": {
        "id": "GEoK3npbX9l3"
      },
      "source": [
        "Now that we have fitted the four models, we will go ahead and begin the process of setting up the visual plots. Note: This example is taken from the Sci Kit Learn Documentation.\n",
        "\n",
        "First we define a mesh to plot in. We define the max and min of the plot for the y and x axis by the smallest and larget features in the data set. We can use numpy's built in [mesh grid](http://docs.scipy.org/doc/numpy/reference/generated/numpy.meshgrid.html) method to construct our plot."
      ]
    },
    {
      "cell_type": "code",
      "execution_count": null,
      "metadata": {
        "id": "OPghNfbCX9l3"
      },
      "outputs": [],
      "source": [
        "# Set the step size\n",
        "h = 0.02\n",
        "\n",
        "# X axis min and max\n",
        "x_min=X[:, 0].min() - 1\n",
        "x_max =X[:, 0].max() + 1\n",
        "\n",
        "# Y axis min and max\n",
        "y_min = X[:, 1].min() - 1\n",
        "y_max = X[:, 1].max() + 1\n",
        "\n",
        "# Finally, numpy can create a meshgrid\n",
        "x_1, y_1 = np.meshgrid(np.arange(x_min, x_max, h),np.arange(y_min, y_max, h))"
      ]
    },
    {
      "cell_type": "markdown",
      "metadata": {
        "id": "6IFOG_5BX9l3"
      },
      "source": [
        "Now the plot titles"
      ]
    },
    {
      "cell_type": "code",
      "execution_count": null,
      "metadata": {
        "id": "cGezI-wPX9l3"
      },
      "outputs": [],
      "source": [
        "# title for the plots\n",
        "titles = ['SVC with linear kernel',\n",
        "          'LinearSVC (linear kernel)',\n",
        "          'SVC with RBF kernel',\n",
        "          'SVC with polynomial (degree 3) kernel']"
      ]
    },
    {
      "cell_type": "markdown",
      "metadata": {
        "id": "Sx2g4qPYX9l3"
      },
      "source": [
        "#TODO:\n",
        "Finally we will go through each model, set its position as a subplot, then scatter the data points and draw a countour of the decision boundaries."
      ]
    },
    {
      "cell_type": "code",
      "execution_count": null,
      "metadata": {
        "scrolled": false,
        "colab": {
          "base_uri": "https://localhost:8080/",
          "height": 1000
        },
        "id": "dnKhOjPsX9l4",
        "outputId": "83124d88-8e2f-444e-f3d0-5b8dd2309b58"
      },
      "outputs": [
        {
          "output_type": "stream",
          "name": "stderr",
          "text": [
            "<ipython-input-29-6fd5b1ff1c17>:20: UserWarning: linewidths is ignored by contourf\n",
            "  plt.contourf(x_1, y_1, Z, cmap=plt.cm.terrain, alpha=0.5,linewidths=0)\n",
            "<ipython-input-29-6fd5b1ff1c17>:20: UserWarning: linewidths is ignored by contourf\n",
            "  plt.contourf(x_1, y_1, Z, cmap=plt.cm.terrain, alpha=0.5,linewidths=0)\n",
            "<ipython-input-29-6fd5b1ff1c17>:20: UserWarning: linewidths is ignored by contourf\n",
            "  plt.contourf(x_1, y_1, Z, cmap=plt.cm.terrain, alpha=0.5,linewidths=0)\n",
            "<ipython-input-29-6fd5b1ff1c17>:20: UserWarning: linewidths is ignored by contourf\n",
            "  plt.contourf(x_1, y_1, Z, cmap=plt.cm.terrain, alpha=0.5,linewidths=0)\n"
          ]
        },
        {
          "output_type": "display_data",
          "data": {
            "text/plain": [
              "<Figure size 1080x1080 with 1 Axes>"
            ],
            "image/png": "[encoded data removed]"
          },
          "metadata": {}
        },
        {
          "output_type": "display_data",
          "data": {
            "text/plain": [
              "<Figure size 1080x1080 with 1 Axes>"
            ],
            "image/png": "[encoded data removed]"
          },
          "metadata": {}
        },
        {
          "output_type": "display_data",
          "data": {
            "text/plain": [
              "<Figure size 1080x1080 with 1 Axes>"
            ],
            "image/png": "[encoded data removed]"
          },
          "metadata": {}
        },
        {
          "output_type": "display_data",
          "data": {
            "text/plain": [
              "<Figure size 1080x1080 with 1 Axes>"
            ],
            "image/png": "[encoded data removed]"
          },
          "metadata": {}
        }
      ],
      "source": [
        "# Use enumerate for a count\n",
        "for i, clf in enumerate((svc, lin_svc, rbf_svc, poly_svc)):\n",
        "\n",
        "    # Plot the decision boundary. For that, we will assign a color to each\n",
        "    # point in the mesh [x_min, m_max]x[y_min, y_max].\n",
        "    plt.figure(figsize=(15,15))\n",
        "    # Set the subplot position (Size = 2 by 2, position deifined by i count\n",
        "    plt.subplot(2, 2, i + 1)\n",
        "\n",
        "    # SUbplot spacing\n",
        "    plt.subplots_adjust(wspace=0.4, hspace=0.4)\n",
        "\n",
        "    # Define Z as the prediction, not the use of ravel to format the arrays\n",
        "    Z = clf.predict(np.c_[x_1.ravel(), y_1.ravel()])\n",
        "\n",
        "    # Put the result into a color plot\n",
        "    Z = Z.reshape(x_1.shape)\n",
        "\n",
        "    # Contour plot (filled with contourf)\n",
        "    plt.contourf(x_1, y_1, Z, cmap=plt.cm.terrain, alpha=0.5,linewidths=0)\n",
        "\n",
        "    # Plot also the training points\n",
        "    plt.scatter(X[:, 0], X[:, 1], c=Y, cmap=plt.cm.Dark2)\n",
        "\n",
        "    # Labels and Titles\n",
        "    plt.xlabel('Sepal length')\n",
        "    plt.ylabel('Sepal width')\n",
        "    plt.xlim(x_1.min(), x_1.max())\n",
        "    plt.ylim(y_1.min(), y_1.max())\n",
        "    plt.xticks(())\n",
        "    plt.yticks(())\n",
        "    plt.title(titles[i])\n",
        "\n",
        "\n",
        "\n",
        "plt.show()"
      ]
    }
  ],
  "metadata": {
    "kernelspec": {
      "display_name": "Python 3 (ipykernel)",
      "language": "python",
      "name": "python3"
    },
    "language_info": {
      "codemirror_mode": {
        "name": "ipython",
        "version": 3
      },
      "file_extension": ".py",
      "mimetype": "text/x-python",
      "name": "python",
      "nbconvert_exporter": "python",
      "pygments_lexer": "ipython3",
      "version": "3.9.13"
    },
    "nteract": {
      "version": "0.28.0"
    },
    "colab": {
      "provenance": []
    },
    "accelerator": "GPU",
    "gpuClass": "standard"
  },
  "nbformat": 4,
  "nbformat_minor": 0
}